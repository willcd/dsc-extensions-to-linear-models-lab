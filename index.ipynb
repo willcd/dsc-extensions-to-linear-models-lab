{
 "cells": [
  {
   "cell_type": "markdown",
   "metadata": {},
   "source": [
    "# Extensions to Linear Models - Lab"
   ]
  },
  {
   "cell_type": "markdown",
   "metadata": {},
   "source": [
    "## Introduction\n",
    "\n",
    "In this lab, you'll practice many concepts you have learned so far, from adding interactions and polynomials to your model to AIC and BIC!"
   ]
  },
  {
   "cell_type": "markdown",
   "metadata": {},
   "source": [
    "## Summary\n",
    "\n",
    "You will be able to:\n",
    "- Build a linear regression model with interactions and polynomial features \n",
    "- Use AIC and BIC to select the best value for the regularization parameter \n"
   ]
  },
  {
   "cell_type": "markdown",
   "metadata": {},
   "source": [
    "## Let's get started!"
   ]
  },
  {
   "cell_type": "markdown",
   "metadata": {},
   "source": [
    "Import all the necessary packages."
   ]
  },
  {
   "cell_type": "code",
   "execution_count": 1,
   "metadata": {},
   "outputs": [],
   "source": [
    "import pandas as pd\n",
    "import numpy as np\n",
    "import matplotlib.pyplot as plt\n",
    "import warnings\n",
    "warnings.filterwarnings('ignore')\n",
    "from itertools import combinations\n",
    "\n",
    "from sklearn.linear_model import LinearRegression\n",
    "from sklearn.model_selection import cross_val_score\n",
    "from sklearn.model_selection import KFold\n",
    "from sklearn.preprocessing import scale\n",
    "from sklearn.preprocessing import PolynomialFeatures"
   ]
  },
  {
   "cell_type": "markdown",
   "metadata": {},
   "source": [
    "Load the data."
   ]
  },
  {
   "cell_type": "code",
   "execution_count": 2,
   "metadata": {},
   "outputs": [],
   "source": [
    "df = pd.read_csv(\"ames.csv\")"
   ]
  },
  {
   "cell_type": "code",
   "execution_count": 9,
   "metadata": {},
   "outputs": [],
   "source": [
    "df = df[['LotArea', 'OverallQual', 'OverallCond', 'TotalBsmtSF',\n",
    "         '1stFlrSF', '2ndFlrSF', 'GrLivArea', 'TotRmsAbvGrd',\n",
    "         'GarageArea', 'Fireplaces', 'SalePrice']]"
   ]
  },
  {
   "cell_type": "code",
   "execution_count": 10,
   "metadata": {},
   "outputs": [
    {
     "data": {
      "text/html": [
       "<div>\n",
       "<style scoped>\n",
       "    .dataframe tbody tr th:only-of-type {\n",
       "        vertical-align: middle;\n",
       "    }\n",
       "\n",
       "    .dataframe tbody tr th {\n",
       "        vertical-align: top;\n",
       "    }\n",
       "\n",
       "    .dataframe thead th {\n",
       "        text-align: right;\n",
       "    }\n",
       "</style>\n",
       "<table border=\"1\" class=\"dataframe\">\n",
       "  <thead>\n",
       "    <tr style=\"text-align: right;\">\n",
       "      <th></th>\n",
       "      <th>LotArea</th>\n",
       "      <th>OverallQual</th>\n",
       "      <th>OverallCond</th>\n",
       "      <th>TotalBsmtSF</th>\n",
       "      <th>1stFlrSF</th>\n",
       "      <th>2ndFlrSF</th>\n",
       "      <th>GrLivArea</th>\n",
       "      <th>TotRmsAbvGrd</th>\n",
       "      <th>GarageArea</th>\n",
       "      <th>Fireplaces</th>\n",
       "      <th>SalePrice</th>\n",
       "    </tr>\n",
       "  </thead>\n",
       "  <tbody>\n",
       "    <tr>\n",
       "      <th>0</th>\n",
       "      <td>8450</td>\n",
       "      <td>7</td>\n",
       "      <td>5</td>\n",
       "      <td>856</td>\n",
       "      <td>856</td>\n",
       "      <td>854</td>\n",
       "      <td>1710</td>\n",
       "      <td>8</td>\n",
       "      <td>548</td>\n",
       "      <td>0</td>\n",
       "      <td>208500</td>\n",
       "    </tr>\n",
       "    <tr>\n",
       "      <th>1</th>\n",
       "      <td>9600</td>\n",
       "      <td>6</td>\n",
       "      <td>8</td>\n",
       "      <td>1262</td>\n",
       "      <td>1262</td>\n",
       "      <td>0</td>\n",
       "      <td>1262</td>\n",
       "      <td>6</td>\n",
       "      <td>460</td>\n",
       "      <td>1</td>\n",
       "      <td>181500</td>\n",
       "    </tr>\n",
       "    <tr>\n",
       "      <th>2</th>\n",
       "      <td>11250</td>\n",
       "      <td>7</td>\n",
       "      <td>5</td>\n",
       "      <td>920</td>\n",
       "      <td>920</td>\n",
       "      <td>866</td>\n",
       "      <td>1786</td>\n",
       "      <td>6</td>\n",
       "      <td>608</td>\n",
       "      <td>1</td>\n",
       "      <td>223500</td>\n",
       "    </tr>\n",
       "    <tr>\n",
       "      <th>3</th>\n",
       "      <td>9550</td>\n",
       "      <td>7</td>\n",
       "      <td>5</td>\n",
       "      <td>756</td>\n",
       "      <td>961</td>\n",
       "      <td>756</td>\n",
       "      <td>1717</td>\n",
       "      <td>7</td>\n",
       "      <td>642</td>\n",
       "      <td>1</td>\n",
       "      <td>140000</td>\n",
       "    </tr>\n",
       "    <tr>\n",
       "      <th>4</th>\n",
       "      <td>14260</td>\n",
       "      <td>8</td>\n",
       "      <td>5</td>\n",
       "      <td>1145</td>\n",
       "      <td>1145</td>\n",
       "      <td>1053</td>\n",
       "      <td>2198</td>\n",
       "      <td>9</td>\n",
       "      <td>836</td>\n",
       "      <td>1</td>\n",
       "      <td>250000</td>\n",
       "    </tr>\n",
       "    <tr>\n",
       "      <th>...</th>\n",
       "      <td>...</td>\n",
       "      <td>...</td>\n",
       "      <td>...</td>\n",
       "      <td>...</td>\n",
       "      <td>...</td>\n",
       "      <td>...</td>\n",
       "      <td>...</td>\n",
       "      <td>...</td>\n",
       "      <td>...</td>\n",
       "      <td>...</td>\n",
       "      <td>...</td>\n",
       "    </tr>\n",
       "    <tr>\n",
       "      <th>1455</th>\n",
       "      <td>7917</td>\n",
       "      <td>6</td>\n",
       "      <td>5</td>\n",
       "      <td>953</td>\n",
       "      <td>953</td>\n",
       "      <td>694</td>\n",
       "      <td>1647</td>\n",
       "      <td>7</td>\n",
       "      <td>460</td>\n",
       "      <td>1</td>\n",
       "      <td>175000</td>\n",
       "    </tr>\n",
       "    <tr>\n",
       "      <th>1456</th>\n",
       "      <td>13175</td>\n",
       "      <td>6</td>\n",
       "      <td>6</td>\n",
       "      <td>1542</td>\n",
       "      <td>2073</td>\n",
       "      <td>0</td>\n",
       "      <td>2073</td>\n",
       "      <td>7</td>\n",
       "      <td>500</td>\n",
       "      <td>2</td>\n",
       "      <td>210000</td>\n",
       "    </tr>\n",
       "    <tr>\n",
       "      <th>1457</th>\n",
       "      <td>9042</td>\n",
       "      <td>7</td>\n",
       "      <td>9</td>\n",
       "      <td>1152</td>\n",
       "      <td>1188</td>\n",
       "      <td>1152</td>\n",
       "      <td>2340</td>\n",
       "      <td>9</td>\n",
       "      <td>252</td>\n",
       "      <td>2</td>\n",
       "      <td>266500</td>\n",
       "    </tr>\n",
       "    <tr>\n",
       "      <th>1458</th>\n",
       "      <td>9717</td>\n",
       "      <td>5</td>\n",
       "      <td>6</td>\n",
       "      <td>1078</td>\n",
       "      <td>1078</td>\n",
       "      <td>0</td>\n",
       "      <td>1078</td>\n",
       "      <td>5</td>\n",
       "      <td>240</td>\n",
       "      <td>0</td>\n",
       "      <td>142125</td>\n",
       "    </tr>\n",
       "    <tr>\n",
       "      <th>1459</th>\n",
       "      <td>9937</td>\n",
       "      <td>5</td>\n",
       "      <td>6</td>\n",
       "      <td>1256</td>\n",
       "      <td>1256</td>\n",
       "      <td>0</td>\n",
       "      <td>1256</td>\n",
       "      <td>6</td>\n",
       "      <td>276</td>\n",
       "      <td>0</td>\n",
       "      <td>147500</td>\n",
       "    </tr>\n",
       "  </tbody>\n",
       "</table>\n",
       "<p>1460 rows × 11 columns</p>\n",
       "</div>"
      ],
      "text/plain": [
       "      LotArea  OverallQual  OverallCond  TotalBsmtSF  1stFlrSF  2ndFlrSF  \\\n",
       "0        8450            7            5          856       856       854   \n",
       "1        9600            6            8         1262      1262         0   \n",
       "2       11250            7            5          920       920       866   \n",
       "3        9550            7            5          756       961       756   \n",
       "4       14260            8            5         1145      1145      1053   \n",
       "...       ...          ...          ...          ...       ...       ...   \n",
       "1455     7917            6            5          953       953       694   \n",
       "1456    13175            6            6         1542      2073         0   \n",
       "1457     9042            7            9         1152      1188      1152   \n",
       "1458     9717            5            6         1078      1078         0   \n",
       "1459     9937            5            6         1256      1256         0   \n",
       "\n",
       "      GrLivArea  TotRmsAbvGrd  GarageArea  Fireplaces  SalePrice  \n",
       "0          1710             8         548           0     208500  \n",
       "1          1262             6         460           1     181500  \n",
       "2          1786             6         608           1     223500  \n",
       "3          1717             7         642           1     140000  \n",
       "4          2198             9         836           1     250000  \n",
       "...         ...           ...         ...         ...        ...  \n",
       "1455       1647             7         460           1     175000  \n",
       "1456       2073             7         500           2     210000  \n",
       "1457       2340             9         252           2     266500  \n",
       "1458       1078             5         240           0     142125  \n",
       "1459       1256             6         276           0     147500  \n",
       "\n",
       "[1460 rows x 11 columns]"
      ]
     },
     "execution_count": 10,
     "metadata": {},
     "output_type": "execute_result"
    }
   ],
   "source": [
    "df"
   ]
  },
  {
   "cell_type": "markdown",
   "metadata": {},
   "source": [
    "## Look at a baseline housing data model"
   ]
  },
  {
   "cell_type": "markdown",
   "metadata": {},
   "source": [
    "Above, we imported the Ames housing data and grabbed a subset of the data to use in this analysis.\n",
    "\n",
    "Next steps:\n",
    "\n",
    "- Split the data into target (`y`) and predictors (`X`) -- ensure these both are DataFrames \n",
    "- Scale all the predictors using `scale`. Convert these scaled features into a DataFrame \n",
    "- Build at a baseline model using *scaled variables* as predictors. Use 5-fold cross-validation (set `random_state` to 1) and use the $R^2$ score to evaluate the model "
   ]
  },
  {
   "cell_type": "code",
   "execution_count": 30,
   "metadata": {},
   "outputs": [
    {
     "data": {
      "text/plain": [
       "0.7524751004088885"
      ]
     },
     "execution_count": 30,
     "metadata": {},
     "output_type": "execute_result"
    }
   ],
   "source": [
    "# Your code here\n",
    "X = df.iloc[:,:-1]\n",
    "y = df[['SalePrice']]\n",
    "\n",
    "X_scaled = pd.DataFrame(scale(X), columns=X.columns)\n",
    "\n",
    "linreg = LinearRegression()\n",
    "\n",
    "crossval = KFold(n_splits=5, shuffle=True, random_state=1)\n",
    "scores = cross_val_score(linreg, X_scaled, y, scoring='r2', cv=crossval)\n",
    "\n",
    "baseline = np.mean(scores)\n",
    "baseline"
   ]
  },
  {
   "cell_type": "markdown",
   "metadata": {},
   "source": [
    "## Include interactions\n",
    "\n",
    "Look at all the possible combinations of variables for interactions by adding interactions one by one to the baseline model. Next, evaluate that model using 5-fold cross-validation and store the $R^2$ to compare it with the baseline model.\n",
    "\n",
    "Print the 7 most important interactions."
   ]
  },
  {
   "cell_type": "code",
   "execution_count": 40,
   "metadata": {},
   "outputs": [
    {
     "data": {
      "text/html": [
       "<div>\n",
       "<style scoped>\n",
       "    .dataframe tbody tr th:only-of-type {\n",
       "        vertical-align: middle;\n",
       "    }\n",
       "\n",
       "    .dataframe tbody tr th {\n",
       "        vertical-align: top;\n",
       "    }\n",
       "\n",
       "    .dataframe thead th {\n",
       "        text-align: right;\n",
       "    }\n",
       "</style>\n",
       "<table border=\"1\" class=\"dataframe\">\n",
       "  <thead>\n",
       "    <tr style=\"text-align: right;\">\n",
       "      <th></th>\n",
       "      <th>c1</th>\n",
       "      <th>c2</th>\n",
       "      <th>score</th>\n",
       "    </tr>\n",
       "  </thead>\n",
       "  <tbody>\n",
       "    <tr>\n",
       "      <th>1</th>\n",
       "      <td>OverallQual</td>\n",
       "      <td>TotRmsAbvGrd</td>\n",
       "      <td>0.7697</td>\n",
       "    </tr>\n",
       "    <tr>\n",
       "      <th>2</th>\n",
       "      <td>OverallQual</td>\n",
       "      <td>GarageArea</td>\n",
       "      <td>0.7637</td>\n",
       "    </tr>\n",
       "    <tr>\n",
       "      <th>0</th>\n",
       "      <td>OverallQual</td>\n",
       "      <td>2ndFlrSF</td>\n",
       "      <td>0.7578</td>\n",
       "    </tr>\n",
       "    <tr>\n",
       "      <th>7</th>\n",
       "      <td>2ndFlrSF</td>\n",
       "      <td>TotRmsAbvGrd</td>\n",
       "      <td>0.7561</td>\n",
       "    </tr>\n",
       "    <tr>\n",
       "      <th>6</th>\n",
       "      <td>2ndFlrSF</td>\n",
       "      <td>GrLivArea</td>\n",
       "      <td>0.7560</td>\n",
       "    </tr>\n",
       "    <tr>\n",
       "      <th>3</th>\n",
       "      <td>OverallQual</td>\n",
       "      <td>Fireplaces</td>\n",
       "      <td>0.7542</td>\n",
       "    </tr>\n",
       "    <tr>\n",
       "      <th>4</th>\n",
       "      <td>OverallCond</td>\n",
       "      <td>TotalBsmtSF</td>\n",
       "      <td>0.7541</td>\n",
       "    </tr>\n",
       "  </tbody>\n",
       "</table>\n",
       "</div>"
      ],
      "text/plain": [
       "            c1            c2   score\n",
       "1  OverallQual  TotRmsAbvGrd  0.7697\n",
       "2  OverallQual    GarageArea  0.7637\n",
       "0  OverallQual      2ndFlrSF  0.7578\n",
       "7     2ndFlrSF  TotRmsAbvGrd  0.7561\n",
       "6     2ndFlrSF     GrLivArea  0.7560\n",
       "3  OverallQual    Fireplaces  0.7542\n",
       "4  OverallCond   TotalBsmtSF  0.7541"
      ]
     },
     "metadata": {},
     "output_type": "display_data"
    }
   ],
   "source": [
    "# Your code here\n",
    "combos = list(combinations(X.columns, 2))\n",
    "\n",
    "pos_interact = []\n",
    "\n",
    "X1 = X_scaled.copy()\n",
    "\n",
    "for c in combos:\n",
    "    X1['interaction'] = X1[c[0]] * X1[c[1]]\n",
    "    score = np.mean(cross_val_score(linreg, X1, y, scoring='r2', cv=crossval))\n",
    "    if score > baseline:\n",
    "        pos_interact.append([c[0],c[1],round(score,4)])\n",
    "\n",
    "c_scores = pd.DataFrame(pos_interact, columns=['c1','c2','score'])\n",
    "top_7 = c_scores.sort_values(by='score', ascending=False).head(7)\n",
    "display(top_7)"
   ]
  },
  {
   "cell_type": "markdown",
   "metadata": {},
   "source": [
    "Write code to include the 7 most important interactions in your data set by adding 7 columns. Name the columns \"var1_var2\", where var1 and var2 are the two variables in the interaction."
   ]
  },
  {
   "cell_type": "code",
   "execution_count": 73,
   "metadata": {},
   "outputs": [],
   "source": [
    "# Your code here\n",
    "df_inter = X_scaled.copy()\n",
    "\n",
    "for i, row in top_7.iterrows():\n",
    "    df_inter[str(row['c1'] + '_' + row['c2'])] = df_inter[row['c1']]*df_inter[row['c2']]"
   ]
  },
  {
   "cell_type": "markdown",
   "metadata": {},
   "source": [
    "## Include polynomials"
   ]
  },
  {
   "cell_type": "markdown",
   "metadata": {},
   "source": [
    "Try polynomials of degrees 2, 3, and 4 for each variable, in a similar way you did for interactions (by looking at your baseline model and seeing how $R^2$ increases). Do understand that when going for a polynomial of 4, the particular column is raised to the power of 2 and 3 as well in other terms. We only want to include \"pure\" polynomials, so make sure no interactions are included. We want the result to return a list that contain tuples of the form:\n",
    "\n",
    "`(var_name, degree, R2)`, so eg. `('OverallQual', 2, 0.781)` "
   ]
  },
  {
   "cell_type": "code",
   "execution_count": 74,
   "metadata": {},
   "outputs": [],
   "source": [
    "# Your code here\n",
    "polys = []\n",
    "for col in X.columns:\n",
    "    for degree in [2,3,4]:\n",
    "        this_df = X_scaled.copy()\n",
    "        \n",
    "        poly = PolynomialFeatures(degree, include_bias=False)\n",
    "        X_poly = pd.DataFrame(poly.fit_transform(X[[col]]))\n",
    "        \n",
    "        new_X = pd.concat([X_poly, this_df.drop(col,axis=1)],axis=1)\n",
    "        \n",
    "        score = np.mean(cross_val_score(linreg, new_X, y, scoring='r2', cv=crossval))\n",
    "        \n",
    "        if score > baseline: polys.append([col, degree, round(score, 4)])\n",
    "poly_data = pd.DataFrame(polys, columns=['feature', 'degree', 'score'])\n",
    "poly_data = poly_data.sort_values(by='score', ascending=False)"
   ]
  },
  {
   "cell_type": "markdown",
   "metadata": {},
   "source": [
    "For each variable, print out the maximum $R^2$ possible when including Polynomials."
   ]
  },
  {
   "cell_type": "code",
   "execution_count": 75,
   "metadata": {},
   "outputs": [
    {
     "name": "stdout",
     "output_type": "stream",
     "text": [
      "GrLivArea \t 4 \t 0.8069\n",
      "OverallQual \t 2 \t 0.7806\n",
      "2ndFlrSF \t 3 \t 0.7753\n",
      "GarageArea \t 4 \t 0.7673\n",
      "OverallCond \t 4 \t 0.7526\n",
      "TotRmsAbvGrd \t 3 \t 0.7525\n"
     ]
    }
   ],
   "source": [
    "# Your code here\n",
    "pos_vars = poly_data.feature.unique()\n",
    "for col in pos_vars:\n",
    "    high = poly_data[poly_data.feature == col].score.max()\n",
    "    deg = int(poly_data[poly_data.score == high].degree)\n",
    "    print(col, '\\t', deg, '\\t', high)"
   ]
  },
  {
   "cell_type": "markdown",
   "metadata": {},
   "source": [
    "Which two variables seem to benefit most from adding polynomial terms?"
   ]
  },
  {
   "cell_type": "markdown",
   "metadata": {},
   "source": [
    "Add Polynomials for the two features that seem to benefit the most, as in have the best $R^2$ compared to the baseline model. For each of the two features, raise to the Polynomial that generates the best result. Make sure to start from the data set `df_inter` so the final data set has both interactions and polynomials in the model."
   ]
  },
  {
   "cell_type": "code",
   "execution_count": 76,
   "metadata": {},
   "outputs": [],
   "source": [
    "# Your code here\n",
    "bests = [['GrLivArea', 4], ['OverallQual', 2]]\n",
    "\n",
    "for best in bests:\n",
    "    poly = PolynomialFeatures(best[1], include_bias=False)\n",
    "    X_poly = poly.fit_transform(X[[best[0]]])\n",
    "    colnames = [best[0]+'_'+str(i) for i in list(range(1,best[1]+1))]\n",
    "    df_inter = pd.concat([df_inter.drop(best[0],axis=1), pd.DataFrame(X_poly, columns=colnames)], axis=1)"
   ]
  },
  {
   "cell_type": "markdown",
   "metadata": {},
   "source": [
    "Check out your final data set and make sure that your interaction terms as well as your polynomial terms are included."
   ]
  },
  {
   "cell_type": "code",
   "execution_count": 77,
   "metadata": {},
   "outputs": [
    {
     "data": {
      "text/html": [
       "<div>\n",
       "<style scoped>\n",
       "    .dataframe tbody tr th:only-of-type {\n",
       "        vertical-align: middle;\n",
       "    }\n",
       "\n",
       "    .dataframe tbody tr th {\n",
       "        vertical-align: top;\n",
       "    }\n",
       "\n",
       "    .dataframe thead th {\n",
       "        text-align: right;\n",
       "    }\n",
       "</style>\n",
       "<table border=\"1\" class=\"dataframe\">\n",
       "  <thead>\n",
       "    <tr style=\"text-align: right;\">\n",
       "      <th></th>\n",
       "      <th>LotArea</th>\n",
       "      <th>OverallCond</th>\n",
       "      <th>TotalBsmtSF</th>\n",
       "      <th>1stFlrSF</th>\n",
       "      <th>2ndFlrSF</th>\n",
       "      <th>TotRmsAbvGrd</th>\n",
       "      <th>GarageArea</th>\n",
       "      <th>Fireplaces</th>\n",
       "      <th>OverallQual_TotRmsAbvGrd</th>\n",
       "      <th>OverallQual_GarageArea</th>\n",
       "      <th>...</th>\n",
       "      <th>2ndFlrSF_TotRmsAbvGrd</th>\n",
       "      <th>2ndFlrSF_GrLivArea</th>\n",
       "      <th>OverallQual_Fireplaces</th>\n",
       "      <th>OverallCond_TotalBsmtSF</th>\n",
       "      <th>GrLivArea_1</th>\n",
       "      <th>GrLivArea_2</th>\n",
       "      <th>GrLivArea_3</th>\n",
       "      <th>GrLivArea_4</th>\n",
       "      <th>OverallQual_1</th>\n",
       "      <th>OverallQual_2</th>\n",
       "    </tr>\n",
       "  </thead>\n",
       "  <tbody>\n",
       "    <tr>\n",
       "      <th>0</th>\n",
       "      <td>-0.207142</td>\n",
       "      <td>-0.517200</td>\n",
       "      <td>-0.459303</td>\n",
       "      <td>-0.793434</td>\n",
       "      <td>1.161852</td>\n",
       "      <td>0.912210</td>\n",
       "      <td>0.351000</td>\n",
       "      <td>-0.951226</td>\n",
       "      <td>0.594286</td>\n",
       "      <td>0.228669</td>\n",
       "      <td>...</td>\n",
       "      <td>1.059852</td>\n",
       "      <td>0.430272</td>\n",
       "      <td>-0.619704</td>\n",
       "      <td>0.237551</td>\n",
       "      <td>1710.0</td>\n",
       "      <td>2924100.0</td>\n",
       "      <td>5.000211e+09</td>\n",
       "      <td>8.550361e+12</td>\n",
       "      <td>7.0</td>\n",
       "      <td>49.0</td>\n",
       "    </tr>\n",
       "    <tr>\n",
       "      <th>1</th>\n",
       "      <td>-0.091886</td>\n",
       "      <td>2.179628</td>\n",
       "      <td>0.466465</td>\n",
       "      <td>0.257140</td>\n",
       "      <td>-0.795163</td>\n",
       "      <td>-0.318683</td>\n",
       "      <td>-0.060731</td>\n",
       "      <td>0.600495</td>\n",
       "      <td>0.022893</td>\n",
       "      <td>0.004363</td>\n",
       "      <td>...</td>\n",
       "      <td>0.253405</td>\n",
       "      <td>0.383676</td>\n",
       "      <td>-0.043137</td>\n",
       "      <td>1.016720</td>\n",
       "      <td>1262.0</td>\n",
       "      <td>1592644.0</td>\n",
       "      <td>2.009917e+09</td>\n",
       "      <td>2.536515e+12</td>\n",
       "      <td>6.0</td>\n",
       "      <td>36.0</td>\n",
       "    </tr>\n",
       "    <tr>\n",
       "      <th>2</th>\n",
       "      <td>0.073480</td>\n",
       "      <td>-0.517200</td>\n",
       "      <td>-0.313369</td>\n",
       "      <td>-0.627826</td>\n",
       "      <td>1.189351</td>\n",
       "      <td>-0.318683</td>\n",
       "      <td>0.631726</td>\n",
       "      <td>0.600495</td>\n",
       "      <td>-0.207616</td>\n",
       "      <td>0.411557</td>\n",
       "      <td>...</td>\n",
       "      <td>-0.379026</td>\n",
       "      <td>0.612531</td>\n",
       "      <td>0.391210</td>\n",
       "      <td>0.162074</td>\n",
       "      <td>1786.0</td>\n",
       "      <td>3189796.0</td>\n",
       "      <td>5.696976e+09</td>\n",
       "      <td>1.017480e+13</td>\n",
       "      <td>7.0</td>\n",
       "      <td>49.0</td>\n",
       "    </tr>\n",
       "    <tr>\n",
       "      <th>3</th>\n",
       "      <td>-0.096897</td>\n",
       "      <td>-0.517200</td>\n",
       "      <td>-0.687324</td>\n",
       "      <td>-0.521734</td>\n",
       "      <td>0.937276</td>\n",
       "      <td>0.296763</td>\n",
       "      <td>0.790804</td>\n",
       "      <td>0.600495</td>\n",
       "      <td>0.193335</td>\n",
       "      <td>0.515193</td>\n",
       "      <td>...</td>\n",
       "      <td>0.278149</td>\n",
       "      <td>0.359595</td>\n",
       "      <td>0.391210</td>\n",
       "      <td>0.355484</td>\n",
       "      <td>1717.0</td>\n",
       "      <td>2948089.0</td>\n",
       "      <td>5.061869e+09</td>\n",
       "      <td>8.691229e+12</td>\n",
       "      <td>7.0</td>\n",
       "      <td>49.0</td>\n",
       "    </tr>\n",
       "    <tr>\n",
       "      <th>4</th>\n",
       "      <td>0.375148</td>\n",
       "      <td>-0.517200</td>\n",
       "      <td>0.199680</td>\n",
       "      <td>-0.045611</td>\n",
       "      <td>1.617877</td>\n",
       "      <td>1.527656</td>\n",
       "      <td>1.698485</td>\n",
       "      <td>0.600495</td>\n",
       "      <td>2.100214</td>\n",
       "      <td>2.335068</td>\n",
       "      <td>...</td>\n",
       "      <td>2.471560</td>\n",
       "      <td>2.102150</td>\n",
       "      <td>0.825557</td>\n",
       "      <td>-0.103274</td>\n",
       "      <td>2198.0</td>\n",
       "      <td>4831204.0</td>\n",
       "      <td>1.061899e+10</td>\n",
       "      <td>2.334053e+13</td>\n",
       "      <td>8.0</td>\n",
       "      <td>64.0</td>\n",
       "    </tr>\n",
       "    <tr>\n",
       "      <th>...</th>\n",
       "      <td>...</td>\n",
       "      <td>...</td>\n",
       "      <td>...</td>\n",
       "      <td>...</td>\n",
       "      <td>...</td>\n",
       "      <td>...</td>\n",
       "      <td>...</td>\n",
       "      <td>...</td>\n",
       "      <td>...</td>\n",
       "      <td>...</td>\n",
       "      <td>...</td>\n",
       "      <td>...</td>\n",
       "      <td>...</td>\n",
       "      <td>...</td>\n",
       "      <td>...</td>\n",
       "      <td>...</td>\n",
       "      <td>...</td>\n",
       "      <td>...</td>\n",
       "      <td>...</td>\n",
       "      <td>...</td>\n",
       "      <td>...</td>\n",
       "    </tr>\n",
       "    <tr>\n",
       "      <th>1455</th>\n",
       "      <td>-0.260560</td>\n",
       "      <td>-0.517200</td>\n",
       "      <td>-0.238122</td>\n",
       "      <td>-0.542435</td>\n",
       "      <td>0.795198</td>\n",
       "      <td>0.296763</td>\n",
       "      <td>-0.060731</td>\n",
       "      <td>0.600495</td>\n",
       "      <td>-0.021318</td>\n",
       "      <td>0.004363</td>\n",
       "      <td>...</td>\n",
       "      <td>0.235985</td>\n",
       "      <td>0.199119</td>\n",
       "      <td>-0.043137</td>\n",
       "      <td>0.123156</td>\n",
       "      <td>1647.0</td>\n",
       "      <td>2712609.0</td>\n",
       "      <td>4.467667e+09</td>\n",
       "      <td>7.358248e+12</td>\n",
       "      <td>6.0</td>\n",
       "      <td>36.0</td>\n",
       "    </tr>\n",
       "    <tr>\n",
       "      <th>1456</th>\n",
       "      <td>0.266407</td>\n",
       "      <td>0.381743</td>\n",
       "      <td>1.104925</td>\n",
       "      <td>2.355701</td>\n",
       "      <td>-0.795163</td>\n",
       "      <td>0.296763</td>\n",
       "      <td>0.126420</td>\n",
       "      <td>2.152216</td>\n",
       "      <td>-0.021318</td>\n",
       "      <td>-0.009081</td>\n",
       "      <td>...</td>\n",
       "      <td>-0.235975</td>\n",
       "      <td>-0.843960</td>\n",
       "      <td>-0.154607</td>\n",
       "      <td>0.421797</td>\n",
       "      <td>2073.0</td>\n",
       "      <td>4297329.0</td>\n",
       "      <td>8.908363e+09</td>\n",
       "      <td>1.846704e+13</td>\n",
       "      <td>6.0</td>\n",
       "      <td>36.0</td>\n",
       "    </tr>\n",
       "    <tr>\n",
       "      <th>1457</th>\n",
       "      <td>-0.147810</td>\n",
       "      <td>3.078570</td>\n",
       "      <td>0.215641</td>\n",
       "      <td>0.065656</td>\n",
       "      <td>1.844744</td>\n",
       "      <td>1.527656</td>\n",
       "      <td>-1.033914</td>\n",
       "      <td>2.152216</td>\n",
       "      <td>0.995236</td>\n",
       "      <td>-0.673574</td>\n",
       "      <td>...</td>\n",
       "      <td>2.818135</td>\n",
       "      <td>2.895598</td>\n",
       "      <td>1.402124</td>\n",
       "      <td>0.663867</td>\n",
       "      <td>2340.0</td>\n",
       "      <td>5475600.0</td>\n",
       "      <td>1.281290e+10</td>\n",
       "      <td>2.998220e+13</td>\n",
       "      <td>7.0</td>\n",
       "      <td>49.0</td>\n",
       "    </tr>\n",
       "    <tr>\n",
       "      <th>1458</th>\n",
       "      <td>-0.080160</td>\n",
       "      <td>0.381743</td>\n",
       "      <td>0.046905</td>\n",
       "      <td>-0.218982</td>\n",
       "      <td>-0.795163</td>\n",
       "      <td>-0.934130</td>\n",
       "      <td>-1.090059</td>\n",
       "      <td>-0.951226</td>\n",
       "      <td>0.742775</td>\n",
       "      <td>0.866762</td>\n",
       "      <td>...</td>\n",
       "      <td>0.742786</td>\n",
       "      <td>0.662202</td>\n",
       "      <td>0.756369</td>\n",
       "      <td>0.017906</td>\n",
       "      <td>1078.0</td>\n",
       "      <td>1162084.0</td>\n",
       "      <td>1.252727e+09</td>\n",
       "      <td>1.350439e+12</td>\n",
       "      <td>5.0</td>\n",
       "      <td>25.0</td>\n",
       "    </tr>\n",
       "    <tr>\n",
       "      <th>1459</th>\n",
       "      <td>-0.058112</td>\n",
       "      <td>0.381743</td>\n",
       "      <td>0.452784</td>\n",
       "      <td>0.241615</td>\n",
       "      <td>-0.795163</td>\n",
       "      <td>-0.318683</td>\n",
       "      <td>-0.921624</td>\n",
       "      <td>-0.951226</td>\n",
       "      <td>0.253401</td>\n",
       "      <td>0.732831</td>\n",
       "      <td>...</td>\n",
       "      <td>0.253405</td>\n",
       "      <td>0.392758</td>\n",
       "      <td>0.756369</td>\n",
       "      <td>0.172847</td>\n",
       "      <td>1256.0</td>\n",
       "      <td>1577536.0</td>\n",
       "      <td>1.981385e+09</td>\n",
       "      <td>2.488620e+12</td>\n",
       "      <td>5.0</td>\n",
       "      <td>25.0</td>\n",
       "    </tr>\n",
       "  </tbody>\n",
       "</table>\n",
       "<p>1460 rows × 21 columns</p>\n",
       "</div>"
      ],
      "text/plain": [
       "       LotArea  OverallCond  TotalBsmtSF  1stFlrSF  2ndFlrSF  TotRmsAbvGrd  \\\n",
       "0    -0.207142    -0.517200    -0.459303 -0.793434  1.161852      0.912210   \n",
       "1    -0.091886     2.179628     0.466465  0.257140 -0.795163     -0.318683   \n",
       "2     0.073480    -0.517200    -0.313369 -0.627826  1.189351     -0.318683   \n",
       "3    -0.096897    -0.517200    -0.687324 -0.521734  0.937276      0.296763   \n",
       "4     0.375148    -0.517200     0.199680 -0.045611  1.617877      1.527656   \n",
       "...        ...          ...          ...       ...       ...           ...   \n",
       "1455 -0.260560    -0.517200    -0.238122 -0.542435  0.795198      0.296763   \n",
       "1456  0.266407     0.381743     1.104925  2.355701 -0.795163      0.296763   \n",
       "1457 -0.147810     3.078570     0.215641  0.065656  1.844744      1.527656   \n",
       "1458 -0.080160     0.381743     0.046905 -0.218982 -0.795163     -0.934130   \n",
       "1459 -0.058112     0.381743     0.452784  0.241615 -0.795163     -0.318683   \n",
       "\n",
       "      GarageArea  Fireplaces  OverallQual_TotRmsAbvGrd  \\\n",
       "0       0.351000   -0.951226                  0.594286   \n",
       "1      -0.060731    0.600495                  0.022893   \n",
       "2       0.631726    0.600495                 -0.207616   \n",
       "3       0.790804    0.600495                  0.193335   \n",
       "4       1.698485    0.600495                  2.100214   \n",
       "...          ...         ...                       ...   \n",
       "1455   -0.060731    0.600495                 -0.021318   \n",
       "1456    0.126420    2.152216                 -0.021318   \n",
       "1457   -1.033914    2.152216                  0.995236   \n",
       "1458   -1.090059   -0.951226                  0.742775   \n",
       "1459   -0.921624   -0.951226                  0.253401   \n",
       "\n",
       "      OverallQual_GarageArea  ...  2ndFlrSF_TotRmsAbvGrd  2ndFlrSF_GrLivArea  \\\n",
       "0                   0.228669  ...               1.059852            0.430272   \n",
       "1                   0.004363  ...               0.253405            0.383676   \n",
       "2                   0.411557  ...              -0.379026            0.612531   \n",
       "3                   0.515193  ...               0.278149            0.359595   \n",
       "4                   2.335068  ...               2.471560            2.102150   \n",
       "...                      ...  ...                    ...                 ...   \n",
       "1455                0.004363  ...               0.235985            0.199119   \n",
       "1456               -0.009081  ...              -0.235975           -0.843960   \n",
       "1457               -0.673574  ...               2.818135            2.895598   \n",
       "1458                0.866762  ...               0.742786            0.662202   \n",
       "1459                0.732831  ...               0.253405            0.392758   \n",
       "\n",
       "      OverallQual_Fireplaces  OverallCond_TotalBsmtSF  GrLivArea_1  \\\n",
       "0                  -0.619704                 0.237551       1710.0   \n",
       "1                  -0.043137                 1.016720       1262.0   \n",
       "2                   0.391210                 0.162074       1786.0   \n",
       "3                   0.391210                 0.355484       1717.0   \n",
       "4                   0.825557                -0.103274       2198.0   \n",
       "...                      ...                      ...          ...   \n",
       "1455               -0.043137                 0.123156       1647.0   \n",
       "1456               -0.154607                 0.421797       2073.0   \n",
       "1457                1.402124                 0.663867       2340.0   \n",
       "1458                0.756369                 0.017906       1078.0   \n",
       "1459                0.756369                 0.172847       1256.0   \n",
       "\n",
       "      GrLivArea_2   GrLivArea_3   GrLivArea_4  OverallQual_1  OverallQual_2  \n",
       "0       2924100.0  5.000211e+09  8.550361e+12            7.0           49.0  \n",
       "1       1592644.0  2.009917e+09  2.536515e+12            6.0           36.0  \n",
       "2       3189796.0  5.696976e+09  1.017480e+13            7.0           49.0  \n",
       "3       2948089.0  5.061869e+09  8.691229e+12            7.0           49.0  \n",
       "4       4831204.0  1.061899e+10  2.334053e+13            8.0           64.0  \n",
       "...           ...           ...           ...            ...            ...  \n",
       "1455    2712609.0  4.467667e+09  7.358248e+12            6.0           36.0  \n",
       "1456    4297329.0  8.908363e+09  1.846704e+13            6.0           36.0  \n",
       "1457    5475600.0  1.281290e+10  2.998220e+13            7.0           49.0  \n",
       "1458    1162084.0  1.252727e+09  1.350439e+12            5.0           25.0  \n",
       "1459    1577536.0  1.981385e+09  2.488620e+12            5.0           25.0  \n",
       "\n",
       "[1460 rows x 21 columns]"
      ]
     },
     "execution_count": 77,
     "metadata": {},
     "output_type": "execute_result"
    }
   ],
   "source": [
    "# Your code here\n",
    "df_inter"
   ]
  },
  {
   "cell_type": "markdown",
   "metadata": {},
   "source": [
    "## Full model R-squared"
   ]
  },
  {
   "cell_type": "markdown",
   "metadata": {},
   "source": [
    "Check out the $R^2$ of the full model."
   ]
  },
  {
   "cell_type": "code",
   "execution_count": 78,
   "metadata": {},
   "outputs": [
    {
     "data": {
      "text/plain": [
       "0.8226891988961489"
      ]
     },
     "execution_count": 78,
     "metadata": {},
     "output_type": "execute_result"
    }
   ],
   "source": [
    "# Your code here\n",
    "full_model_r2 = np.mean(cross_val_score(linreg, df_inter, y, scoring='r2', cv=crossval))\n",
    "full_model_r2"
   ]
  },
  {
   "cell_type": "markdown",
   "metadata": {},
   "source": [
    "## Find the best Lasso regularization parameter"
   ]
  },
  {
   "cell_type": "markdown",
   "metadata": {},
   "source": [
    "You learned that when using Lasso regularization, your coefficients shrink to 0 when using a higher regularization parameter. Now the question is which value we should choose for the regularization parameter. \n",
    "\n",
    "This is where the AIC and BIC come in handy! We'll use both criteria in what follows and perform cross-validation to select an optimal value of the regularization parameter $alpha$ of the Lasso estimator.\n",
    "\n",
    "Read the page here: https://scikit-learn.org/stable/auto_examples/linear_model/plot_lasso_model_selection.html and create a similar plot as the first one listed on the page. "
   ]
  },
  {
   "cell_type": "code",
   "execution_count": 85,
   "metadata": {},
   "outputs": [],
   "source": [
    "from sklearn.linear_model import Lasso, LassoCV, LassoLarsCV, LassoLarsIC"
   ]
  },
  {
   "cell_type": "code",
   "execution_count": 180,
   "metadata": {
    "scrolled": false
   },
   "outputs": [
    {
     "data": {
      "text/plain": [
       "Text(0.5, 1.0, 'AIC/BIC Model Selection - Best Alphas')"
      ]
     },
     "execution_count": 180,
     "metadata": {},
     "output_type": "execute_result"
    },
    {
     "data": {
      "image/png": "[encoded data removed]",
      "text/plain": [
       "<Figure size 864x576 with 1 Axes>"
      ]
     },
     "metadata": {
      "needs_background": "light"
     },
     "output_type": "display_data"
    }
   ],
   "source": [
    "# Your code here \n",
    "\n",
    "model_bic = LassoLarsIC(criterion='bic')\n",
    "model_bic.fit(df_inter, y)\n",
    "alpha_bic_ = model_bic.alpha_\n",
    "\n",
    "model_aic = LassoLarsIC(criterion='aic')\n",
    "model_aic.fit(df_inter, y)\n",
    "alpha_aic_ = model_aic.alpha_\n",
    "\n",
    "def plot_ic_criteria(model, name, color):\n",
    "    plt.plot(-np.log10(model.alphas_), model.criterion_,\n",
    "             '--', color=color, label=f'{name} alpha')\n",
    "    plt.axvline(-np.log10(model.alpha_), color=color, label=f'Best {name} alpha')\n",
    "\n",
    "plt.figure(figsize=(12,8))\n",
    "plot_ic_criteria(model_bic, 'BIC', 'b')\n",
    "plot_ic_criteria(model_aic, 'AIC', 'r')\n",
    "plt.legend()\n",
    "plt.title(\"AIC/BIC Model Selection - Best Alphas\")"
   ]
  },
  {
   "cell_type": "code",
   "execution_count": 183,
   "metadata": {},
   "outputs": [
    {
     "data": {
      "image/png": "[encoded data removed]",
      "text/plain": [
       "<Figure size 864x576 with 1 Axes>"
      ]
     },
     "metadata": {
      "needs_background": "light"
     },
     "output_type": "display_data"
    },
    {
     "name": "stdout",
     "output_type": "stream",
     "text": [
      "0.296579828103836 22.994367403401604 12.339362453766006\n"
     ]
    }
   ],
   "source": [
    "model_lcv = LassoLarsCV(cv=20).fit(df_inter, y)\n",
    "\n",
    "EPSILON = 1e-4\n",
    "\n",
    "plt.figure(figsize=(12,8))\n",
    "plt.plot(-np.log10(model_lcv.cv_alphas_), model_lcv.mse_path_, ':')\n",
    "plt.plot(-np.log10(model_lcv.cv_alphas_), model_lcv.mse_path_.mean(axis=-1), 'k',\n",
    "             label='Average across the folds', linewidth=2)\n",
    "plt.axvline(-np.log10(model_lcv.alpha_), linestyle='--', color='k',\n",
    "            label='alpha CV')\n",
    "\n",
    "plt.legend()\n",
    "\n",
    "plt.xlabel(r'$\\alpha$')\n",
    "plt.ylabel('Mean square error')\n",
    "plt.title('Mean square error on each fold: Lars')\n",
    "plt.show();\n",
    "print(model_lcv.alpha_, alpha_bic_, alpha_aic_)"
   ]
  },
  {
   "cell_type": "markdown",
   "metadata": {},
   "source": [
    "## Analyze the final result\n",
    "\n",
    "Finally, use the best value for the regularization parameter according to AIC and BIC, and compare $R^2$ and RMSE using train-test split. Compare with the baseline model.\n",
    "\n",
    "Remember, you can find the Root Mean Squared Error (RMSE) by setting `squared=False` inside the function (see [the documentation](https://scikit-learn.org/stable/modules/generated/sklearn.metrics.mean_squared_error.html)), and the RMSE returns values that are in the same units as our target - so we can see how far off our predicted sale prices are in dollars."
   ]
  },
  {
   "cell_type": "code",
   "execution_count": 184,
   "metadata": {},
   "outputs": [],
   "source": [
    "from sklearn.metrics import mean_squared_error, mean_squared_log_error\n",
    "from sklearn.model_selection import train_test_split"
   ]
  },
  {
   "cell_type": "code",
   "execution_count": 192,
   "metadata": {},
   "outputs": [],
   "source": [
    "def print_scores(model, X_train, X_test, y_train, y_test):\n",
    "    print(model)\n",
    "    print(f\"Training R^2: {model.score(X_train, y_train)}\")\n",
    "    print(f\"Test R^2: {model.score(X_test, y_test)}\")\n",
    "    print(f\"Training RMSE: {mean_squared_error(y_train, model.predict(X_train), squared=False)}\")\n",
    "    print(f\"Test RMSE: {mean_squared_error(y_test, model.predict(X_test), squared=False)}\")"
   ]
  },
  {
   "cell_type": "code",
   "execution_count": 193,
   "metadata": {},
   "outputs": [
    {
     "name": "stdout",
     "output_type": "stream",
     "text": [
      "LinearRegression()\n",
      "Training R^2: 0.7478270652928448\n",
      "Test R^2: 0.8120708166668684\n",
      "Training RMSE: 39424.15590381302\n",
      "Test RMSE: 35519.17035590487\n"
     ]
    }
   ],
   "source": [
    "# Split X_scaled and y into training and test sets\n",
    "# Set random_state to 1\n",
    "X_train, X_test, y_train, y_test = train_test_split(X_scaled, y, random_state=1)\n",
    "\n",
    "# Code for baseline model\n",
    "linreg_all = LinearRegression()\n",
    "linreg_all.fit(X_train, y_train)\n",
    "\n",
    "# Print R-Squared and RMSE\n",
    "print_scores(linreg_all, X_train, X_test, y_train, y_test)"
   ]
  },
  {
   "cell_type": "code",
   "execution_count": 194,
   "metadata": {},
   "outputs": [
    {
     "name": "stdout",
     "output_type": "stream",
     "text": [
      "Lasso(alpha=12.339362453766006)\n",
      "Training R^2: 0.8440239169763867\n",
      "Test R^2: 0.8620953869020058\n",
      "Training RMSE: 31005.745087634714\n",
      "Test RMSE: 30426.717129260436\n"
     ]
    }
   ],
   "source": [
    "# Split df_inter and y into training and test sets\n",
    "# Set random_state to 1\n",
    "X_train, X_test, y_train, y_test = train_test_split(df_inter, y, random_state=1)\n",
    "\n",
    "# Code for lasso with alpha from AIC\n",
    "lasso = Lasso(alpha=alpha_aic_)\n",
    "lasso.fit(X_train, y_train)\n",
    "\n",
    "# Print R-Squared and RMSE\n",
    "print_scores(lasso, X_train, X_test, y_train, y_test)"
   ]
  },
  {
   "cell_type": "code",
   "execution_count": 195,
   "metadata": {},
   "outputs": [
    {
     "name": "stdout",
     "output_type": "stream",
     "text": [
      "Lasso(alpha=22.994367403401604)\n",
      "Training R^2: 0.8440003049204267\n",
      "Test R^2: 0.8621697330903436\n",
      "Training RMSE: 31008.091863078906\n",
      "Test RMSE: 30418.51430211441\n"
     ]
    }
   ],
   "source": [
    "# Code for lasso with alpha from AIC\n",
    "lasso2 = Lasso(alpha=alpha_bic_)\n",
    "lasso2.fit(X_train, y_train)\n",
    "\n",
    "# Print R-Squared and RMSE\n",
    "print_scores(lasso2, X_train, X_test, y_train, y_test)"
   ]
  },
  {
   "cell_type": "code",
   "execution_count": 231,
   "metadata": {},
   "outputs": [
    {
     "name": "stdout",
     "output_type": "stream",
     "text": [
      "Lasso(alpha=0.296579828103836)\n",
      "Training R^2: 0.8440321066603119\n",
      "Test R^2: 0.8619869837261288\n",
      "Training RMSE: 31004.931082754996\n",
      "Test RMSE: 30438.673599612914\n"
     ]
    }
   ],
   "source": [
    "# Code for lasso with alpha from LassoCV\n",
    "lasso3 = Lasso(alpha=model_lcv.alpha_)\n",
    "lasso3.fit(X_train, y_train)\n",
    "\n",
    "# Print R-Squared and RMSE\n",
    "print_scores(lasso3, X_train, X_test, y_train, y_test)"
   ]
  },
  {
   "cell_type": "markdown",
   "metadata": {},
   "source": [
    "## Level up (Optional)"
   ]
  },
  {
   "cell_type": "markdown",
   "metadata": {},
   "source": [
    "### Create a Lasso path\n",
    "\n",
    "From this section, you know that when using Lasso, more parameters shrink to zero as your regularization parameter goes up. In Scikit-learn there is a function `lasso_path()` which visualizes the shrinkage of the coefficients while $alpha$ changes. Try this out yourself!\n",
    "\n",
    "https://scikit-learn.org/stable/auto_examples/linear_model/plot_lasso_coordinate_descent_path.html#sphx-glr-auto-examples-linear-model-plot-lasso-coordinate-descent-path-py"
   ]
  },
  {
   "cell_type": "markdown",
   "metadata": {},
   "source": [
    "### AIC and BIC for subset selection\n",
    "This notebook shows how you can use AIC and BIC purely for feature selection. Try this code out on our Ames housing data!"
   ]
  },
  {
   "cell_type": "markdown",
   "metadata": {},
   "source": [
    "https://xavierbourretsicotte.github.io/subset_selection.html"
   ]
  },
  {
   "cell_type": "markdown",
   "metadata": {},
   "source": [
    "## Summary"
   ]
  },
  {
   "cell_type": "markdown",
   "metadata": {},
   "source": [
    "Congratulations! You now know how to create better linear models and how to use AIC and BIC for both feature selection and to optimize your regularization parameter when performing Ridge and Lasso. "
   ]
  }
 ],
 "metadata": {
  "kernelspec": {
   "display_name": "Python 3",
   "language": "python",
   "name": "python3"
  },
  "language_info": {
   "codemirror_mode": {
    "name": "ipython",
    "version": 3
   },
   "file_extension": ".py",
   "mimetype": "text/x-python",
   "name": "python",
   "nbconvert_exporter": "python",
   "pygments_lexer": "ipython3",
   "version": "3.8.5"
  }
 },
 "nbformat": 4,
 "nbformat_minor": 2
}
